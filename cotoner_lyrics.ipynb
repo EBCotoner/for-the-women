{
 "cells": [
  {
   "cell_type": "code",
   "execution_count": 17,
   "metadata": {},
   "outputs": [],
   "source": [
    "rock_lyrics = \"\"\"buddy you are a boy make a big noise \n",
    "playing in the street gonna be a big man some day \n",
    "you got mud on your face\n",
    "you big disgrace \n",
    "kicking your can all over the place \n",
    "singing We will we will rock you\n",
    "we will we will rock you\n",
    "buddy you are a young man hard man\n",
    "shouting in the street gonna take on the world some day\n",
    "you got blood on your face\n",
    "you big disgrace\n",
    "waving your banner all over the place\n",
    "we will we will rock you\n",
    "sing it out\n",
    "we will we will rock you\n",
    "buddy you are an old man poor man\n",
    "pleading with your eyes gonna make you some peace some day\n",
    "you got mud on your face\n",
    "big disgrace\n",
    "somebody better put you back into your place\n",
    "we will we will rock you\n",
    "sing it\n",
    "we will we will rock you\n",
    "everybody\n",
    "we will we will rock you\n",
    "we will we will rock you\n",
    "alright\"\"\""
   ]
  },
  {
   "cell_type": "code",
   "execution_count": 18,
   "metadata": {},
   "outputs": [
    {
     "name": "stdout",
     "output_type": "stream",
     "text": [
      "['buddy', 'you', 'are', 'a', 'boy', 'make', 'a', 'big', 'noise', 'playing', 'in', 'the', 'street', 'gonna', 'be', 'a', 'big', 'man', 'some', 'day', 'you', 'got', 'mud', 'on', 'your', 'face', 'you', 'big', 'disgrace', 'kicking', 'your', 'can', 'all', 'over', 'the', 'place', 'singing', 'We', 'will', 'we', 'will', 'rock', 'you', 'we', 'will', 'we', 'will', 'rock', 'you', 'buddy', 'you', 'are', 'a', 'young', 'man', 'hard', 'man', 'shouting', 'in', 'the', 'street', 'gonna', 'take', 'on', 'the', 'world', 'some', 'day', 'you', 'got', 'blood', 'on', 'your', 'face', 'you', 'big', 'disgrace', 'waving', 'your', 'banner', 'all', 'over', 'the', 'place', 'we', 'will', 'we', 'will', 'rock', 'you', 'sing', 'it', 'out', 'we', 'will', 'we', 'will', 'rock', 'you', 'buddy', 'you', 'are', 'an', 'old', 'man', 'poor', 'man', 'pleading', 'with', 'your', 'eyes', 'gonna', 'make', 'you', 'some', 'peace', 'some', 'day', 'you', 'got', 'mud', 'on', 'your', 'face', 'big', 'disgrace', 'somebody', 'better', 'put', 'you', 'back', 'into', 'your', 'place', 'we', 'will', 'we', 'will', 'rock', 'you', 'sing', 'it', 'we', 'will', 'we', 'will', 'rock', 'you', 'everybody', 'we', 'will', 'we', 'will', 'rock', 'you', 'we', 'will', 'we', 'will', 'rock', 'you', 'alright']\n"
     ]
    }
   ],
   "source": [
    "rocksplit = rock_lyrics.split()\n",
    "\n",
    "print(rocksplit)"
   ]
  },
  {
   "cell_type": "code",
   "execution_count": 23,
   "metadata": {},
   "outputs": [
    {
     "name": "stdout",
     "output_type": "stream",
     "text": [
      "Counter({'you': 18, 'will': 16, 'we': 15, 'rock': 8, 'your': 7, 'big': 5, 'the': 5, 'man': 5, 'a': 4, 'some': 4, 'on': 4, 'buddy': 3, 'are': 3, 'gonna': 3, 'day': 3, 'got': 3, 'face': 3, 'disgrace': 3, 'place': 3, 'make': 2, 'in': 2, 'street': 2, 'mud': 2, 'all': 2, 'over': 2, 'sing': 2, 'it': 2, 'boy': 1, 'noise': 1, 'playing': 1, 'be': 1, 'kicking': 1, 'can': 1, 'singing': 1, 'We': 1, 'young': 1, 'hard': 1, 'shouting': 1, 'take': 1, 'world': 1, 'blood': 1, 'waving': 1, 'banner': 1, 'out': 1, 'an': 1, 'old': 1, 'poor': 1, 'pleading': 1, 'with': 1, 'eyes': 1, 'peace': 1, 'somebody': 1, 'better': 1, 'put': 1, 'back': 1, 'into': 1, 'everybody': 1, 'alright': 1})\n"
     ]
    }
   ],
   "source": [
    "from collections import Counter\n",
    "counts = Counter(rocksplit)\n",
    "print(counts)"
   ]
  },
  {
   "cell_type": "code",
   "execution_count": 31,
   "metadata": {},
   "outputs": [
    {
     "data": {
      "text/plain": [
       "[('you', 18),\n",
       " ('will', 16),\n",
       " ('we', 15),\n",
       " ('rock', 8),\n",
       " ('your', 7),\n",
       " ('big', 5),\n",
       " ('the', 5),\n",
       " ('man', 5),\n",
       " ('a', 4),\n",
       " ('some', 4),\n",
       " ('on', 4),\n",
       " ('buddy', 3),\n",
       " ('are', 3),\n",
       " ('gonna', 3),\n",
       " ('day', 3),\n",
       " ('got', 3),\n",
       " ('face', 3),\n",
       " ('disgrace', 3),\n",
       " ('place', 3),\n",
       " ('make', 2),\n",
       " ('in', 2),\n",
       " ('street', 2),\n",
       " ('mud', 2),\n",
       " ('all', 2),\n",
       " ('over', 2),\n",
       " ('sing', 2),\n",
       " ('it', 2),\n",
       " ('boy', 1),\n",
       " ('noise', 1),\n",
       " ('playing', 1),\n",
       " ('be', 1),\n",
       " ('kicking', 1),\n",
       " ('can', 1),\n",
       " ('singing', 1),\n",
       " ('We', 1),\n",
       " ('young', 1),\n",
       " ('hard', 1),\n",
       " ('shouting', 1),\n",
       " ('take', 1),\n",
       " ('world', 1),\n",
       " ('blood', 1),\n",
       " ('waving', 1),\n",
       " ('banner', 1),\n",
       " ('out', 1),\n",
       " ('an', 1),\n",
       " ('old', 1),\n",
       " ('poor', 1),\n",
       " ('pleading', 1),\n",
       " ('with', 1),\n",
       " ('eyes', 1),\n",
       " ('peace', 1),\n",
       " ('somebody', 1),\n",
       " ('better', 1),\n",
       " ('put', 1),\n",
       " ('back', 1),\n",
       " ('into', 1),\n",
       " ('everybody', 1),\n",
       " ('alright', 1)]"
      ]
     },
     "execution_count": 31,
     "metadata": {},
     "output_type": "execute_result"
    }
   ],
   "source": [
    "counts.most_common()"
   ]
  },
  {
   "cell_type": "code",
   "execution_count": null,
   "metadata": {},
   "outputs": [],
   "source": []
  }
 ],
 "metadata": {
  "kernelspec": {
   "display_name": "Python 3",
   "language": "python",
   "name": "python3"
  },
  "language_info": {
   "codemirror_mode": {
    "name": "ipython",
    "version": 3
   },
   "file_extension": ".py",
   "mimetype": "text/x-python",
   "name": "python",
   "nbconvert_exporter": "python",
   "pygments_lexer": "ipython3",
   "version": "3.7.4"
  }
 },
 "nbformat": 4,
 "nbformat_minor": 2
}
